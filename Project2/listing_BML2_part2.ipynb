{
 "cells": [
  {
   "cell_type": "code",
   "execution_count": null,
   "id": "934ecc2e-c080-483f-b229-8bc20fa0c872",
   "metadata": {},
   "outputs": [],
   "source": [
    "import numpy as np\n",
    "import matplotlib.pyplot as plt\n",
    "\n",
    "x = np.array([15, 26, 65, 320, 652, 156, 896, 123, 16, 263, 459, 213])\n",
    "y = np.array([125, 163, 162, 263, 563, 23, 463, 126, 133, 152, 213, 159])\n",
    "\n",
    "xy = x * y\n",
    "x_sq = x ** 2\n",
    "y_sq = y ** 2\n",
    "x_mean = np.mean(x)\n",
    "y_mean = np.mean(y)\n",
    "x_diff = x - x_mean\n",
    "y_diff = y - y_mean\n",
    "x_diff_sq = x_diff ** 2\n",
    "y_diff_sq = y_diff ** 2\n",
    "\n",
    "sum_x = np.sum(x)\n",
    "sum_y = np.sum(y)\n",
    "sum_xy = np.sum(xy)\n",
    "sum_x_sq = np.sum(x_sq)\n",
    "sum_y_sq = np.sum(y_sq)\n",
    "sum_x_diff = np.sum(x_diff)\n",
    "sum_x_diff_sq = np.sum(x_diff_sq)\n",
    "\n",
    "n = len(x)\n",
    "b1 = (n * sum_xy - sum_x * sum_y) / (n * sum_x_sq - sum_x ** 2)\n",
    "b0 = y_mean - b1 * x_mean\n",
    "\n",
    "regression_equation = f\"y = {b0:.2f} + {b1:.2f} * x\"\n",
    "print(regression_equation)\n",
    "\n",
    "SSR = np.sum((y_mean - (b0 + b1 * x)) ** 2)\n",
    "SST = np.sum((y - y_mean) ** 2)\n",
    "R_sq = SSR / SST\n",
    "\n",
    "print(f\"R^2 = {R_sq:.4f}\")\n",
    "\n",
    "plt.scatter(x, y, label=\"Корреляционное поле\")\n",
    "plt.plot(x, b0 + b1 * x, color=\"red\", label=\"Линия тренда\")\n",
    "plt.xlabel(\"x\")\n",
    "plt.ylabel(\"y\")\n",
    "plt.title(\"Корреляционное поле и линия тренда\")\n",
    "plt.legend()\n",
    "plt.show()\n"
   ]
  },
  {
   "cell_type": "code",
   "execution_count": null,
   "id": "ba2941d6-2d12-4fcb-8728-480df3250b1e",
   "metadata": {},
   "outputs": [],
   "source": []
  }
 ],
 "metadata": {
  "kernelspec": {
   "display_name": "Python 3 (ipykernel)",
   "language": "python",
   "name": "python3"
  },
  "language_info": {
   "codemirror_mode": {
    "name": "ipython",
    "version": 3
   },
   "file_extension": ".py",
   "mimetype": "text/x-python",
   "name": "python",
   "nbconvert_exporter": "python",
   "pygments_lexer": "ipython3",
   "version": "3.9.13"
  }
 },
 "nbformat": 4,
 "nbformat_minor": 5
}
